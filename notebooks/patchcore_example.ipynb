{
 "cells": [
  {
   "cell_type": "markdown",
   "metadata": {},
   "source": [
    "# PatchCore Example\n",
    "\n",
    "#### Import dependencies"
   ]
  },
  {
   "cell_type": "code",
   "execution_count": 1,
   "metadata": {},
   "outputs": [],
   "source": [
    "import os\n",
    "import anodet\n",
    "import numpy as np\n",
    "import torch\n",
    "import cv2\n",
    "from torch.utils.data import DataLoader\n",
    "import matplotlib.pyplot as plt"
   ]
  },
  {
   "cell_type": "markdown",
   "metadata": {},
   "source": [
    "# \n",
    "\n",
    "## Training\n",
    "\n",
    "In this notebook the MVTec dataset will be used. It can be downloaded from: https://www.mvtec.com/company/research/datasets/mvtec-ad.\n",
    "\n",
    "Change `DATASET_PATH` to the path where you save the dataset.\n",
    "\n",
    "Also, if you want to save and load the model. Add a folder where to save them and change the path of `MODEL_DATA_PATH` to that folder."
   ]
  },
  {
   "cell_type": "code",
   "execution_count": 2,
   "metadata": {},
   "outputs": [],
   "source": [
    "DATASET_PATH = os.path.realpath(\"/home/wy/anodet/data/\")\n",
    "MODEL_DATA_PATH = os.path.realpath(\"/home/wy/anodet/distributions/\")"
   ]
  },
  {
   "cell_type": "markdown",
   "metadata": {},
   "source": [
    "#### Load dataset"
   ]
  },
  {
   "cell_type": "code",
   "execution_count": 3,
   "metadata": {},
   "outputs": [
    {
     "name": "stdout",
     "output_type": "stream",
     "text": [
      "Number of images in dataset: 209\n"
     ]
    }
   ],
   "source": [
    "dataset = anodet.AnodetDataset(os.path.join(DATASET_PATH, \"bottle/train/good\"))\n",
    "dataloader = DataLoader(dataset, batch_size=32)\n",
    "print(\"Number of images in dataset:\", len(dataloader.dataset))"
   ]
  },
  {
   "cell_type": "markdown",
   "metadata": {},
   "source": [
    "#### Init the model"
   ]
  },
  {
   "cell_type": "code",
   "execution_count": 4,
   "metadata": {
    "scrolled": true
   },
   "outputs": [
    {
     "name": "stderr",
     "output_type": "stream",
     "text": [
      "/home/wy/anaconda3/envs/adet/lib/python3.8/site-packages/torchvision/models/_utils.py:208: UserWarning: The parameter 'pretrained' is deprecated since 0.13 and will be removed in 0.15, please use 'weights' instead.\n",
      "  warnings.warn(\n",
      "/home/wy/anaconda3/envs/adet/lib/python3.8/site-packages/torchvision/models/_utils.py:223: UserWarning: Arguments other than a weight enum or `None` for 'weights' are deprecated since 0.13 and will be removed in 0.15. The current behavior is equivalent to passing `weights=ResNet18_Weights.IMAGENET1K_V1`. You can also use `weights=ResNet18_Weights.DEFAULT` to get the most up-to-date weights.\n",
      "  warnings.warn(msg)\n"
     ]
    }
   ],
   "source": [
    "patch_core = anodet.PatchCore()"
   ]
  },
  {
   "cell_type": "markdown",
   "metadata": {},
   "source": [
    "#### Fit the model to the dataset"
   ]
  },
  {
   "cell_type": "code",
   "execution_count": null,
   "metadata": {},
   "outputs": [],
   "source": [
    "patch_core.fit(dataloader)"
   ]
  },
  {
   "cell_type": "markdown",
   "metadata": {},
   "source": [
    "#### Save the necessary parameters"
   ]
  },
  {
   "cell_type": "code",
   "execution_count": null,
   "metadata": {},
   "outputs": [],
   "source": [
    "torch.save(patch_core.embedding_coreset, os.path.join(MODEL_DATA_PATH, \"bottle_embedding_coreset.pt\"))"
   ]
  },
  {
   "cell_type": "markdown",
   "metadata": {},
   "source": [
    "# \n",
    "\n",
    "## Inference\n",
    "#### Load test images"
   ]
  },
  {
   "cell_type": "code",
   "execution_count": null,
   "metadata": {},
   "outputs": [],
   "source": [
    "paths = [\n",
    "    os.path.join(DATASET_PATH, \"bottle/test/broken_large/000.png\"),\n",
    "    os.path.join(DATASET_PATH, \"bottle/test/broken_small/000.png\"),\n",
    "    os.path.join(DATASET_PATH, \"bottle/test/contamination/000.png\"),\n",
    "    os.path.join(DATASET_PATH, \"bottle/test/good/000.png\"),\n",
    "    os.path.join(DATASET_PATH, \"bottle/test/good/001.png\"),\n",
    "]\n",
    "\n",
    "images = []\n",
    "for path in paths:\n",
    "    image = cv2.imread(path)\n",
    "    image = cv2.cvtColor(image, cv2.COLOR_BGR2RGB)\n",
    "    images.append(image)\n",
    "    \n",
    "batch = anodet.to_batch(images, anodet.standard_image_transform, torch.device('cpu'))"
   ]
  },
  {
   "cell_type": "markdown",
   "metadata": {},
   "source": [
    "#### Load the model data"
   ]
  },
  {
   "cell_type": "code",
   "execution_count": null,
   "metadata": {},
   "outputs": [],
   "source": [
    "embedding_coreset = torch.load(os.path.join(MODEL_DATA_PATH, 'bottle_embedding_coreset.pt'))"
   ]
  },
  {
   "cell_type": "markdown",
   "metadata": {},
   "source": [
    "#### init the model"
   ]
  },
  {
   "cell_type": "code",
   "execution_count": null,
   "metadata": {},
   "outputs": [],
   "source": [
    "patch_core = anodet.PatchCore('resnet18', embedding_coreset=embedding_coreset)"
   ]
  },
  {
   "cell_type": "markdown",
   "metadata": {},
   "source": [
    "#### Make prediction"
   ]
  },
  {
   "cell_type": "code",
   "execution_count": null,
   "metadata": {},
   "outputs": [],
   "source": [
    "image_scores, score_maps = patch_core.predict(batch)"
   ]
  },
  {
   "cell_type": "markdown",
   "metadata": {},
   "source": [
    "#### Interpret the prediction"
   ]
  },
  {
   "cell_type": "code",
   "execution_count": null,
   "metadata": {},
   "outputs": [],
   "source": [
    "THRESH = 2.4\n",
    "score_map_classifications = anodet.classification(score_maps, THRESH)\n",
    "image_classifications = anodet.classification(image_scores, THRESH)\n",
    "print(\"Image scores:\", image_scores)\n",
    "print(\"Image classifications:\", image_classifications)"
   ]
  },
  {
   "cell_type": "markdown",
   "metadata": {},
   "source": [
    "#### Visualization"
   ]
  },
  {
   "cell_type": "code",
   "execution_count": null,
   "metadata": {},
   "outputs": [],
   "source": [
    "test_images = np.array(images).copy()"
   ]
  },
  {
   "cell_type": "code",
   "execution_count": null,
   "metadata": {},
   "outputs": [],
   "source": [
    "!python -V"
   ]
  },
  {
   "cell_type": "code",
   "execution_count": null,
   "metadata": {},
   "outputs": [],
   "source": [
    "boundary_images = anodet.visualization.framed_boundary_images(test_images, score_map_classifications, image_classifications, padding=40)\n",
    "heatmap_images = anodet.visualization.heatmap_images(test_images, score_maps, alpha=0.5)\n",
    "highlighted_images = anodet.visualization.highlighted_images(images, score_map_classifications, color=(128, 0, 128))\n",
    "\n",
    "for idx in range(len(images)):\n",
    "    fig, axs = plt.subplots(1, 4, figsize=(12, 6))\n",
    "    fig.suptitle('Image: ' + str(idx), y=0.75, fontsize=14)\n",
    "    axs[0].imshow(images[idx])\n",
    "    axs[1].imshow(boundary_images[idx])\n",
    "    axs[2].imshow(heatmap_images[idx])\n",
    "    axs[3].imshow(highlighted_images[idx])\n",
    "    plt.savefig(f'result_{idx}.png')\n",
    "    plt.show()\n",
    "    "
   ]
  },
  {
   "cell_type": "markdown",
   "metadata": {},
   "source": [
    "#### For one merged image"
   ]
  },
  {
   "cell_type": "code",
   "execution_count": null,
   "metadata": {
    "scrolled": true
   },
   "outputs": [],
   "source": [
    "heatmap_images = anodet.visualization.heatmap_images(test_images, score_maps, alpha=0.5)\n",
    "tot_img = anodet.visualization.merge_images(heatmap_images, margin=40)\n",
    "fig, axs = plt.subplots(1, 1, figsize=(10, 6))\n",
    "plt.imshow(tot_img)\n",
    "plt.savefig('heatmap.png')\n",
    "plt.show()"
   ]
  },
  {
   "cell_type": "code",
   "execution_count": null,
   "metadata": {},
   "outputs": [],
   "source": []
  }
 ],
 "metadata": {
  "kernelspec": {
   "display_name": "Python 3 (ipykernel)",
   "language": "python",
   "name": "python3"
  },
  "language_info": {
   "codemirror_mode": {
    "name": "ipython",
    "version": 3
   },
   "file_extension": ".py",
   "mimetype": "text/x-python",
   "name": "python",
   "nbconvert_exporter": "python",
   "pygments_lexer": "ipython3",
   "version": "3.8.13"
  }
 },
 "nbformat": 4,
 "nbformat_minor": 4
}
